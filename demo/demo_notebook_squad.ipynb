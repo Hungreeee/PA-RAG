{
 "cells": [
  {
   "cell_type": "markdown",
   "metadata": {},
   "source": [
    "## Short-form QnA\n",
    "\n",
    "In this notebook, we aim to construct and evaluate the performance of a Q-RAG and RAG agent. While in a realistic use case, it would have require developers to set up graph-like databases to build the core elements of Q-RAG (e.g., question-chunk connections), this notebook show that Q-RAG can be easily replicated using vectorstore and document metadata. Here, we would like to utilize LangChain - a library providing wrappers for framework that are very easy and quick to set up, which is useful for demo purposes.\n",
    "\n",
    "### Set-up"
   ]
  },
  {
   "cell_type": "code",
   "execution_count": 1,
   "metadata": {},
   "outputs": [],
   "source": [
    "import pandas as pd\n",
    "import numpy as np\n",
    "from copy import deepcopy\n",
    "import json\n",
    "import re\n",
    "import random\n",
    "\n",
    "from typing import List\n",
    "\n",
    "from datasets import load_dataset, Dataset\n",
    "\n",
    "from nltk import word_tokenize\n",
    "from nltk.translate.bleu_score import sentence_bleu, SmoothingFunction\n",
    "\n",
    "from langchain_community.document_loaders import DataFrameLoader\n",
    "from langchain_community.vectorstores import FAISS\n",
    "from langchain_text_splitters import RecursiveCharacterTextSplitter\n",
    "from langchain_huggingface import HuggingFaceEmbeddings\n",
    "from langchain_core.prompts import ChatPromptTemplate\n",
    "from langchain_core.documents.base import Document\n",
    "from langchain_openai import ChatOpenAI"
   ]
  },
  {
   "cell_type": "markdown",
   "metadata": {},
   "source": [
    "Some important technical details before we start:\n",
    "\n",
    "- LLM: `gpt-3.5-turbo`\n",
    "- Vectorstore: `FAISS`\n",
    "- Embedding Model: `sentence-transformers/all-MiniLM-L6-v2`\n",
    "- Evaluation Dataset: `rajpurkar/squad` (HuggingFace)\n"
   ]
  },
  {
   "cell_type": "code",
   "execution_count": 11,
   "metadata": {},
   "outputs": [],
   "source": [
    "OPENAI_API_KEY = \"\"\n",
    "OPENAI_MODEL = \"gpt-3.5-turbo\"\n",
    "\n",
    "EMBEDDING_MODEL = \"sentence-transformers/all-MiniLM-L6-v2\"\n",
    "\n",
    "DATASET = \"rajpurkar/squad\"\n",
    "\n",
    "FAISS_PATH = \"./vectorstore/squad\"\n",
    "RESULTS_PATH = \"./results/squad\""
   ]
  },
  {
   "cell_type": "markdown",
   "metadata": {},
   "source": [
    "### Embedding Model\n",
    "\n",
    "Here we want to load our embedding model `all-MiniLM-L6-v2`, which is a good option due to its light-weight, enabling fast inference. To enable access to everyone, the default device to be loaded is the CPU. "
   ]
  },
  {
   "cell_type": "code",
   "execution_count": 3,
   "metadata": {},
   "outputs": [],
   "source": [
    "embedding_model = HuggingFaceEmbeddings(\n",
    "    model_name=EMBEDDING_MODEL, \n",
    "    model_kwargs={\"device\": \"cpu\"}\n",
    ")"
   ]
  },
  {
   "cell_type": "markdown",
   "metadata": {},
   "source": [
    "### Dataset"
   ]
  },
  {
   "cell_type": "markdown",
   "metadata": {},
   "source": [
    "Here, we take the validation split of the dataset for evaluation. Additionally, we only sample around 200 datapoints out of the dataset."
   ]
  },
  {
   "cell_type": "code",
   "execution_count": 4,
   "metadata": {},
   "outputs": [
    {
     "data": {
      "text/plain": [
       "Dataset({\n",
       "    features: ['id', 'title', 'context', 'question', 'answers'],\n",
       "    num_rows: 200\n",
       "})"
      ]
     },
     "execution_count": 4,
     "metadata": {},
     "output_type": "execute_result"
    }
   ],
   "source": [
    "full_dataset = load_dataset(DATASET, split=\"validation\")\n",
    "\n",
    "random.seed(13)\n",
    "rand_indices = random.sample(range(0, len(full_dataset)), 200)\n",
    "dataset = full_dataset.select(rand_indices)\n",
    "\n",
    "dataset"
   ]
  },
  {
   "cell_type": "markdown",
   "metadata": {},
   "source": [
    "Next, we create a corpus, grouping the existing `context` chunks provided in the original dataset together."
   ]
  },
  {
   "cell_type": "code",
   "execution_count": 5,
   "metadata": {},
   "outputs": [
    {
     "name": "stdout",
     "output_type": "stream",
     "text": [
      "<class 'pandas.core.frame.DataFrame'>\n",
      "Index: 2067 entries, 0 to 10565\n",
      "Data columns (total 4 columns):\n",
      " #   Column  Non-Null Count  Dtype \n",
      "---  ------  --------------  ----- \n",
      " 0   id      2067 non-null   object\n",
      " 1   title   2067 non-null   object\n",
      " 2   text    2067 non-null   object\n",
      " 3   type    2067 non-null   object\n",
      "dtypes: object(4)\n",
      "memory usage: 80.7+ KB\n"
     ]
    }
   ],
   "source": [
    "document_df = pd.DataFrame({\n",
    "    \"id\": full_dataset[\"id\"],\n",
    "    \"title\": full_dataset[\"title\"],\n",
    "    \"text\": full_dataset[\"context\"],\n",
    "    \"type\": \"chunk\"\n",
    "})\n",
    "\n",
    "document_df = document_df.drop_duplicates([\"text\"])\n",
    "document_df.info()"
   ]
  },
  {
   "cell_type": "markdown",
   "metadata": {},
   "source": [
    "The documents are then further splited into small chunks (size of around 300 chars) for better retrieval. This chunk corpus will then be loaded into a FAISS instance, which are stored locally. "
   ]
  },
  {
   "cell_type": "code",
   "execution_count": 6,
   "metadata": {},
   "outputs": [],
   "source": [
    "loader = DataFrameLoader(document_df, page_content_column=\"text\")\n",
    "text_splitter = RecursiveCharacterTextSplitter(\n",
    "    chunk_size = 300,\n",
    "    chunk_overlap = 100\n",
    ")\n",
    "\n",
    "document_chunks = loader.load()\n",
    "document_chunks = text_splitter.split_documents(document_chunks)"
   ]
  },
  {
   "cell_type": "code",
   "execution_count": 7,
   "metadata": {},
   "outputs": [],
   "source": [
    "vectorstore_db = FAISS.from_documents(\n",
    "    documents=document_chunks, \n",
    "    embedding=embedding_model, \n",
    "    normalize_L2=True\n",
    ")\n",
    "\n",
    "vectorstore_db.save_local(FAISS_PATH)"
   ]
  },
  {
   "cell_type": "markdown",
   "metadata": {},
   "source": [
    "### Retriever"
   ]
  },
  {
   "cell_type": "markdown",
   "metadata": {},
   "source": [
    "Now, we would like to initiate our vectorstore retrievers. For this design, let us have two main retrievers serving different purposes:\n",
    "\n",
    "- Chunk vectorstore: This will be used to obtain relevant chunks given a query as normally. We only need to load the indexed vectors from our local storage.\n",
    "- Question vectorstores: This will be used to retrieve similar \"model questions\". We will need to create a new instance of FAISS vectorstore, with a default \"mock question\" inside (simply because it is not possible to create an empty database)."
   ]
  },
  {
   "cell_type": "code",
   "execution_count": 8,
   "metadata": {},
   "outputs": [],
   "source": [
    "chunks_vectorstore_db = FAISS.load_local(\n",
    "    folder_path=FAISS_PATH, \n",
    "    embeddings=embedding_model, \n",
    "    normalize_L2=True,\n",
    "    allow_dangerous_deserialization=True,\n",
    ")"
   ]
  },
  {
   "cell_type": "markdown",
   "metadata": {},
   "source": [
    "We should pay attention to the structure of the \"Mock Question\" template. Its metadata has a list-type attribute called `connections`, which later can be used to store IDs of relevant documents. This helps to replicate the model question-chunk connections in Q-RAG. "
   ]
  },
  {
   "cell_type": "code",
   "execution_count": 9,
   "metadata": {},
   "outputs": [],
   "source": [
    "question_vectorstore_db = FAISS.from_documents(\n",
    "    documents=[\n",
    "        Document(page_content=\"Mock Question\", metadata={\n",
    "            \"id\": 0, \n",
    "            \"type\": \"question\", \n",
    "            \"connections\": []\n",
    "        })],\n",
    "    embedding=embedding_model\n",
    ")"
   ]
  },
  {
   "cell_type": "markdown",
   "metadata": {},
   "source": [
    "### LLM Client"
   ]
  },
  {
   "cell_type": "markdown",
   "metadata": {},
   "source": [
    "This cell loads the OpenAI's `gpt-3.5-turbo` as our default LLM client."
   ]
  },
  {
   "cell_type": "code",
   "execution_count": 12,
   "metadata": {},
   "outputs": [],
   "source": [
    "llm_agent = ChatOpenAI(\n",
    "    api_key=OPENAI_API_KEY,\n",
    "    model=OPENAI_MODEL,\n",
    "    temperature=0.0\n",
    ")"
   ]
  },
  {
   "cell_type": "markdown",
   "metadata": {},
   "source": [
    "### RAG Agent"
   ]
  },
  {
   "cell_type": "markdown",
   "metadata": {},
   "source": [
    "A RAG Agent class template is created here, unifying the retrievers and the generator into one pipeline. This agent has the following functionality:\n",
    "\n",
    "- Utilize the chunk database / question database to perform retrieval. If one recalls, besides the generic chunk retrieval process, Q-RAG also attempts to retrieve relevant questions to obtain the connected context chunks. \n",
    "- Construct the context string from the raw retrieval results to augment the input user query. The complete prompt will then be processed by LLM generator to obtain answers.\n",
    "\n",
    "As a side note, the SQuAD dataset focuses on short-form question-answering, meaning that the answers will be very short and concise. Here, we engineer our prompt template to have the same behavior. "
   ]
  },
  {
   "cell_type": "code",
   "execution_count": 102,
   "metadata": {},
   "outputs": [],
   "source": [
    "class RAGAgent:\n",
    "    def __init__(\n",
    "        self,\n",
    "        client: ChatOpenAI,\n",
    "        chunk_retriever: FAISS,\n",
    "        question_retriever: FAISS,\n",
    "        dataframe: pd.DataFrame\n",
    "    ):\n",
    "        self.dataframe = dataframe\n",
    "        self.client = client\n",
    "        self.chunk_retriever = chunk_retriever\n",
    "        self.question_retriever = question_retriever\n",
    "\n",
    "    \n",
    "    def retrieve_context(\n",
    "        self,\n",
    "        query: str,\n",
    "        top_k: int,\n",
    "        distance_threshold: float,\n",
    "        retrieve_questions: bool = False,\n",
    "        **krawgs\n",
    "    ):\n",
    "        \"\"\"\n",
    "        Retrieve relevant chunks/questions given query\n",
    "        \"\"\"\n",
    "        retriever = self.chunk_retriever if not retrieve_questions else self.question_retriever\n",
    "        \n",
    "        docs_with_metadata = retriever.similarity_search_with_score(\n",
    "            query=query,\n",
    "            k=top_k,\n",
    "            **krawgs\n",
    "        )\n",
    "        filtered_docs = [doc for doc, score in docs_with_metadata if score <= distance_threshold] \n",
    "        \n",
    "        if retrieve_questions:\n",
    "            doc_ids = [doc for relevant_docs in filtered_docs for doc in relevant_docs.metadata[\"connections\"]]\n",
    "        else:\n",
    "            doc_ids = [doc.metadata[\"id\"] for doc in filtered_docs]\n",
    "\n",
    "        filtered_docs = [DataFrameLoader(pd.DataFrame(self.dataframe[self.dataframe[\"id\"] == doc_id])).load()[0] for doc_id in set(doc_ids)]\n",
    "        \n",
    "        return filtered_docs\n",
    "    \n",
    "\n",
    "    def generate_response(\n",
    "        self,\n",
    "        question: str,\n",
    "        retrieved_docs: List[Document]\n",
    "    ):\n",
    "        \"\"\"\n",
    "        Generate response based on input query and raw context documents\n",
    "        \"\"\"\n",
    "        documents = [\"Title:\" + str(doc.metadata[\"title\"]) + \"\\n\" + str(doc.page_content) for doc in retrieved_docs]\n",
    "        context_str = \"\\n\\n\".join(documents)\n",
    "    \n",
    "        prompt = ChatPromptTemplate.from_messages([\n",
    "             (\"system\", \"\"\"\n",
    "                ### INSTRUCTION\n",
    "                Answer the users QUESTION by extracting from the CONTEXT text above. \n",
    "                You should only use keywords from the provided CONTEXT to form your answer.\n",
    "                Keep your answer concise and short, just in a few words.\n",
    "              \"\"\"),\n",
    "            (\"human\", \"### CONTEXT\\n{context}\\n### QUESTION\\n{question}\")\n",
    "        ])\n",
    "\n",
    "        chain = prompt | self.client\n",
    "        response = chain.invoke({\"question\": question, \"context\": context_str})\n",
    "\n",
    "        return response.content\n",
    "        "
   ]
  },
  {
   "cell_type": "markdown",
   "metadata": {},
   "source": [
    "### Evaluation"
   ]
  },
  {
   "cell_type": "markdown",
   "metadata": {},
   "source": [
    "In this section, we evaluate the agent before and after the *corrective loop* - the process that allow poorly-formed responses to be corrected. \n",
    "\n",
    "We first initiate our baseline RAG Agent with access to the chunk database and the (empty) question database."
   ]
  },
  {
   "cell_type": "code",
   "execution_count": 103,
   "metadata": {},
   "outputs": [],
   "source": [
    "rag_agent = RAGAgent(\n",
    "    client=llm_agent,\n",
    "    chunk_retriever=chunks_vectorstore_db,\n",
    "    question_retriever=question_vectorstore_db,\n",
    "    dataframe=document_df\n",
    ")"
   ]
  },
  {
   "cell_type": "markdown",
   "metadata": {},
   "source": [
    "Two evaluation metrics are utilized:\n",
    "\n",
    "- BLEU score: measure the n-gram precision between a candidate text with a list of references. This should give us a rough idea of the quality of our generated answers compared to the ground truth answers.\n",
    "- Retrieval score: it's just a made-up score that checks whether the ground truth context has been retrieved or not."
   ]
  },
  {
   "cell_type": "code",
   "execution_count": 15,
   "metadata": {},
   "outputs": [],
   "source": [
    "def compute_bleu_score(ref_list: str, cand: str):\n",
    "    \"\"\"\n",
    "    BLEU score\n",
    "    \"\"\"\n",
    "    smoothing_func = SmoothingFunction().method1\n",
    "\n",
    "    reference = [word_tokenize(re.sub(r'[^\\w\\s]','', ref.lower())) for ref in ref_list]\n",
    "    candidate = word_tokenize(re.sub(r'[^\\w\\s]','', cand.lower()))\n",
    "\n",
    "    weight_configs = (1, 0, 0, 0)\n",
    "\n",
    "    bleu_score = sentence_bleu(\n",
    "        references=reference, \n",
    "        hypothesis=candidate, \n",
    "        weights=weight_configs, \n",
    "        smoothing_function=smoothing_func\n",
    "    )\n",
    "\n",
    "    return bleu_score\n",
    "\n",
    "\n",
    "def compute_retrieval_score(ground_truth_context: str, retrieved_context: List[Document]):\n",
    "    \"\"\"\n",
    "    Whether the ground truth context document is retrieved \n",
    "    \"\"\"\n",
    "    retrieved_context_str = [doc.page_content for doc in retrieved_context]\n",
    "    return 1 if ground_truth_context in retrieved_context_str else 0"
   ]
  },
  {
   "cell_type": "markdown",
   "metadata": {},
   "source": [
    "This cell creates an evaluation loop, which iterates through each row in the dataset to generate the results and evaluate them."
   ]
  },
  {
   "cell_type": "code",
   "execution_count": 16,
   "metadata": {},
   "outputs": [],
   "source": [
    "def evaluation(\n",
    "    agent: RAGAgent, \n",
    "    test_set: Dataset, \n",
    "    top_k: int, \n",
    "    q_top_k: int,\n",
    "    distance_threshold: float,\n",
    "    q_distance_threshold: float\n",
    "):\n",
    "    results = []\n",
    "\n",
    "    for i in range(len(test_set)):\n",
    "        id = test_set[i][\"id\"]\n",
    "        question = test_set[i][\"question\"]\n",
    "        ground_truth_answer = test_set[i][\"answers\"][\"text\"]\n",
    "        ground_truth_context = test_set[i][\"context\"]\n",
    "\n",
    "        relevant_chunks = agent.retrieve_context(\n",
    "            query=question, \n",
    "            top_k=top_k, \n",
    "            distance_threshold=distance_threshold,\n",
    "            retrieve_questions=False\n",
    "        )\n",
    "\n",
    "        relevant_question_chunks = agent.retrieve_context(\n",
    "            query=question, \n",
    "            top_k=q_top_k, \n",
    "            distance_threshold=q_distance_threshold,\n",
    "            retrieve_questions=True\n",
    "        )\n",
    "\n",
    "        context = relevant_question_chunks + relevant_chunks\n",
    "        response = agent.generate_response(question, context)\n",
    "\n",
    "        bleu_score = compute_bleu_score(ground_truth_answer, response)\n",
    "        retrieval_score = compute_retrieval_score(ground_truth_context, context)\n",
    "\n",
    "        results.append({\n",
    "            \"question\": question,\n",
    "            \"answer\": response,\n",
    "            \"ground_truth_answer\": ground_truth_answer,\n",
    "            \"context\": [chunk.page_content for chunk in relevant_chunks],\n",
    "            \"q_context\": [chunk.page_content for chunk in relevant_question_chunks],\n",
    "            \"ground_truth_context\": ground_truth_context,\n",
    "            \"bleu_score\": bleu_score,\n",
    "            \"retrieval_score\": retrieval_score,\n",
    "            \"id\": id\n",
    "        })\n",
    "        \n",
    "    return results"
   ]
  },
  {
   "cell_type": "code",
   "execution_count": 17,
   "metadata": {},
   "outputs": [],
   "source": [
    "results = evaluation(\n",
    "    agent=rag_agent,\n",
    "    test_set=dataset,\n",
    "    top_k=5,\n",
    "    q_top_k=1,\n",
    "    distance_threshold=1.5,\n",
    "    q_distance_threshold=0.25\n",
    ")"
   ]
  },
  {
   "cell_type": "code",
   "execution_count": 18,
   "metadata": {},
   "outputs": [],
   "source": [
    "with open(f\"{RESULTS_PATH}/run-0.json\", \"w\") as file:\n",
    "    file.write(json.dumps(results))"
   ]
  },
  {
   "cell_type": "code",
   "execution_count": 19,
   "metadata": {},
   "outputs": [
    {
     "data": {
      "text/plain": [
       "0.7302206150734558"
      ]
     },
     "execution_count": 19,
     "metadata": {},
     "output_type": "execute_result"
    }
   ],
   "source": [
    "bleu_scores = [result[\"bleu_score\"] for result in results] \n",
    "np.mean(bleu_scores)"
   ]
  },
  {
   "cell_type": "code",
   "execution_count": 20,
   "metadata": {},
   "outputs": [
    {
     "data": {
      "text/plain": [
       "0.925"
      ]
     },
     "execution_count": 20,
     "metadata": {},
     "output_type": "execute_result"
    }
   ],
   "source": [
    "retrieval_scores = [result[\"retrieval_score\"] for result in results] \n",
    "np.mean(retrieval_scores)"
   ]
  },
  {
   "cell_type": "markdown",
   "metadata": {},
   "source": [
    "### Q-RAG Corrective Loop"
   ]
  },
  {
   "cell_type": "markdown",
   "metadata": {},
   "source": [
    "In this section, we are going to perform the corrective loop. This requires an external source to provide the ground truth answers. In reality, we can have human evaluators going through poor responses (e.g., responses reported by users, responses with low metric values) to correct them.\n",
    "\n",
    "We start by first create a copy of the initial question database (currently empty). "
   ]
  },
  {
   "cell_type": "code",
   "execution_count": 21,
   "metadata": {},
   "outputs": [],
   "source": [
    "new_question_vectorstore_db = deepcopy(question_vectorstore_db)"
   ]
  },
  {
   "cell_type": "markdown",
   "metadata": {},
   "source": [
    "We then iterate through the results to detect poor answers, which are defined as BLEU < 0.5. For each of these instances, we are going to utilize the ground truth answer to retrieve the most relevant chunks. These chunks will then be put into the `connections` attribute of the corresponding questions. These questions documents are then appended to the question database. \n",
    "\n",
    "In the code, one may be able to observe that we are utilizing both the original question and the ground truth answer to retrieve relevant chunks here (Line 9). This is simply because SQuAD is a short-form QnA dataset, meaning that the expected answers are extremely short and concise, composing of just one or two keywords. Therefore, the answer alone is inappropirate to be used for context retrieval. As such, it is a reasonable option to concatenate the original question and the ground truth answer together for this task. In most cases, inlcluding just a few keywords from the corrected answers is enough to significantly improve the retrieval results. "
   ]
  },
  {
   "cell_type": "code",
   "execution_count": 22,
   "metadata": {},
   "outputs": [],
   "source": [
    "for i, score in enumerate(bleu_scores):\n",
    "    if score < 0.5:\n",
    "        id = dataset[i][\"id\"]\n",
    "        question = dataset[i][\"question\"]\n",
    "        ground_truth_answer_list = sorted(dataset[i][\"answers\"][\"text\"], key=len)\n",
    "        ground_truth_answer = ground_truth_answer_list[-1]\n",
    "\n",
    "        relevant_chunk_list = rag_agent.retrieve_context(\n",
    "            query=question + \" \" + ground_truth_answer,\n",
    "            top_k=2,\n",
    "            distance_threshold=1.5\n",
    "        )\n",
    "\n",
    "        relevant_chunk_id_list = [chunk.metadata[\"id\"] for chunk in relevant_chunk_list]\n",
    "\n",
    "        question_document = Document(\n",
    "            page_content=question,\n",
    "            metadata={\n",
    "                \"id\": id,\n",
    "                \"type\": \"question\", \n",
    "                \"connections\": relevant_chunk_id_list\n",
    "            }\n",
    "        )\n",
    "\n",
    "        new_question_vectorstore_db.add_documents([question_document])"
   ]
  },
  {
   "cell_type": "markdown",
   "metadata": {},
   "source": [
    "We create a new rag agent with access to the newly indexed question database."
   ]
  },
  {
   "cell_type": "code",
   "execution_count": 104,
   "metadata": {},
   "outputs": [],
   "source": [
    "new_rag_agent = RAGAgent(\n",
    "    client=llm_agent,\n",
    "    chunk_retriever=chunks_vectorstore_db,\n",
    "    question_retriever=new_question_vectorstore_db,\n",
    "    dataframe=document_df\n",
    ")"
   ]
  },
  {
   "cell_type": "markdown",
   "metadata": {},
   "source": [
    "A new evaluation process takes place for this RAG agent. Here, we can see that the threshold for the question distance `q_distance_threshold` is quite tight, ensuring that only the most similar questions will be retrieved. This will prevents the agents from drawing context chunks from irrelevant model questions."
   ]
  },
  {
   "cell_type": "code",
   "execution_count": 24,
   "metadata": {},
   "outputs": [],
   "source": [
    "new_results = evaluation(\n",
    "    agent=new_rag_agent,\n",
    "    test_set=dataset,\n",
    "    top_k=5,\n",
    "    q_top_k=2,\n",
    "    distance_threshold=1.5,\n",
    "    q_distance_threshold=0.25\n",
    ")"
   ]
  },
  {
   "cell_type": "code",
   "execution_count": 25,
   "metadata": {},
   "outputs": [],
   "source": [
    "with open(f\"{RESULTS_PATH}/run-1.json\", \"w\") as file:\n",
    "    file.write(json.dumps(new_results))"
   ]
  },
  {
   "cell_type": "code",
   "execution_count": 26,
   "metadata": {},
   "outputs": [
    {
     "data": {
      "text/plain": [
       "0.77242408767743"
      ]
     },
     "execution_count": 26,
     "metadata": {},
     "output_type": "execute_result"
    }
   ],
   "source": [
    "new_bleu_scores = [result[\"bleu_score\"] for result in new_results] \n",
    "np.mean(new_bleu_scores)"
   ]
  },
  {
   "cell_type": "code",
   "execution_count": 27,
   "metadata": {},
   "outputs": [
    {
     "data": {
      "text/plain": [
       "0.97"
      ]
     },
     "execution_count": 27,
     "metadata": {},
     "output_type": "execute_result"
    }
   ],
   "source": [
    "new_retrieval_scores = [result[\"retrieval_score\"] for result in new_results] \n",
    "np.mean(new_retrieval_scores)"
   ]
  },
  {
   "cell_type": "markdown",
   "metadata": {},
   "source": [
    "As one can observed, there has been some decent improvement in the average BLEU score and a significant improvement in context retrieval score. While this evaluation is relatively simplistic to truly assess the improvements, it has clearly demonstrated the overall process of Q-RAG. One can continue to play around with the agents by testing how much better the Q-RAG agent can handle similar complex questions compared to the generic one.\n",
    "\n",
    "Let us do a sanity check with one example in the dataset:"
   ]
  },
  {
   "cell_type": "code",
   "execution_count": 106,
   "metadata": {},
   "outputs": [
    {
     "data": {
      "text/plain": [
       "{'id': '5726c3da708984140094d0db',\n",
       " 'title': 'European_Union_law',\n",
       " 'context': 'The \"freedom to provide services\" under TFEU article 56 applies to people who give services \"for remuneration\", especially commercial or professional activity. For example, in Van Binsbergen v Bestuur van de Bedrijfvereniging voor de Metaalnijverheid a Dutch lawyer moved to Belgium while advising a client in a social security case, and was told he could not continue because Dutch law said only people established in the Netherlands could give legal advice. The Court of Justice held that the freedom to provide services applied, it was directly effective, and the rule was probably unjustified: having an address in the member state would be enough to pursue the legitimate aim of good administration of justice. The Court of Justice has held that secondary education falls outside the scope of article 56, because usually the state funds it, though higher education does not. Health care generally counts as a service. In Geraets-Smits v Stichting Ziekenfonds Mrs Geraets-Smits claimed she should be reimbursed by Dutch social insurance for costs of receiving treatment in Germany. The Dutch health authorities regarded the treatment unnecessary, so she argued this restricted the freedom (of the German health clinic) to provide services. Several governments submitted that hospital services should not be regarded as economic, and should not fall within article 56. But the Court of Justice held health was a \"service\" even though the government (rather than the service recipient) paid for the service. National authorities could be justified in refusing to reimburse patients for medical services abroad if the health care received at home was without undue delay, and it followed \"international medical science\" on which treatments counted as normal and necessary. The Court requires that the individual circumstances of a patient justify waiting lists, and this is also true in the context of the UK\\'s National Health Service. Aside from public services, another sensitive field of services are those classified as illegal. Josemans v Burgemeester van Maastricht held that the Netherlands\\' regulation of cannabis consumption, including the prohibitions by some municipalities on tourists (but not Dutch nationals) going to coffee shops, fell outside article 56 altogether. The Court of Justice reasoned that narcotic drugs were controlled in all member states, and so this differed from other cases where prostitution or other quasi-legal activity was subject to restriction. If an activity does fall within article 56, a restriction can be justified under article 52 or overriding requirements developed by the Court of Justice. In Alpine Investments BV v Minister van Financiën a business that sold commodities futures (with Merrill Lynch and another banking firms) attempted to challenge a Dutch law that prohibiting cold calling customers. The Court of Justice held the Dutch prohibition pursued a legitimate aim to prevent \"undesirable developments in securities trading\" including protecting the consumer from aggressive sales tactics, thus maintaining confidence in the Dutch markets. In Omega Spielhallen GmbH v Bonn a \"laserdrome\" business was banned by the Bonn council. It bought fake laser gun services from a UK firm called Pulsar Ltd, but residents had protested against \"playing at killing\" entertainment. The Court of Justice held that the German constitutional value of human dignity, which underpinned the ban, did count as a justified restriction on freedom to provide services. In Liga Portuguesa de Futebol v Santa Casa da Misericórdia de Lisboa the Court of Justice also held that the state monopoly on gambling, and a penalty for a Gibraltar firm that had sold internet gambling services, was justified to prevent fraud and gambling where people\\'s views were highly divergent. The ban was proportionate as this was an appropriate and necessary way to tackle the serious problems of fraud that arise over the internet. In the Services Directive a group of justifications were codified in article 16 that the case law has developed.',\n",
       " 'question': 'What did the Court of Justice reason were controlled in all member states in Josemans v Burgemeester van Maastricht?',\n",
       " 'answers': {'text': ['narcotic drugs', 'narcotic drugs', 'narcotic drugs'],\n",
       "  'answer_start': [2318, 2318, 2318]}}"
      ]
     },
     "execution_count": 106,
     "metadata": {},
     "output_type": "execute_result"
    }
   ],
   "source": [
    "example = [row for row in dataset if row[\"id\"] == \"5726c3da708984140094d0db\"][0]\n",
    "example"
   ]
  },
  {
   "cell_type": "markdown",
   "metadata": {},
   "source": [
    "Here, we would like to rephrase the original complex question into something else. This will help us to evaluate more realistically whether Q-RAG is able to retrieve the correct model question."
   ]
  },
  {
   "cell_type": "code",
   "execution_count": 107,
   "metadata": {},
   "outputs": [
    {
     "data": {
      "text/plain": [
       "'What were the key aspects controlled in all member states in the case of Josemans v Burgemeester van Maastricht according to the Court of Justice?'"
      ]
     },
     "execution_count": 107,
     "metadata": {},
     "output_type": "execute_result"
    }
   ],
   "source": [
    "reformat_question_prompt = ChatPromptTemplate.from_messages([\n",
    "    (\"system\", \"\"\"\n",
    "        Your task is to make changes the original question while maintaining its original objective and meaning. \n",
    "        You may even choose to completely remove small details from the original question to make it a bit more different.  \n",
    "     \"\"\"),\n",
    "    (\"user\", \"\\n{question}\")\n",
    "])\n",
    "\n",
    "chain = reformat_question_prompt | llm_agent\n",
    "response = chain.invoke({\"question\": example[\"question\"]}).content\n",
    "response"
   ]
  },
  {
   "cell_type": "code",
   "execution_count": 108,
   "metadata": {},
   "outputs": [],
   "source": [
    "example[\"question\"] = response\n",
    "example_dataset = Dataset.from_list([example])"
   ]
  },
  {
   "cell_type": "code",
   "execution_count": 109,
   "metadata": {},
   "outputs": [
    {
     "data": {
      "text/plain": [
       "[{'question': 'What were the key aspects controlled in all member states in the case of Josemans v Burgemeester van Maastricht according to the Court of Justice?',\n",
       "  'answer': 'Freedom of establishment and the right to provide services.',\n",
       "  'ground_truth_answer': ['narcotic drugs',\n",
       "   'narcotic drugs',\n",
       "   'narcotic drugs'],\n",
       "  'context': ['Since its founding, the EU has operated among an increasing plurality of national and globalising legal systems. This has meant both the European Court of Justice and the highest national courts have had to develop principles to resolve conflicts of laws between different systems. Within the EU itself, the Court of Justice\\'s view is that if EU law conflicts with a provision of national law, then EU law has primacy. In the first major case in 1964, Costa v ENEL, a Milanese lawyer, and former shareholder of an energy company, named Mr Costa refused to pay his electricity bill to Enel, as a protest against the nationalisation of the Italian energy corporations. He claimed the Italian nationalisation law conflicted with the Treaty of Rome, and requested a reference be made to both the Italian Constitutional Court and the Court of Justice under TFEU article 267. The Italian Constitutional Court gave an opinion that because the nationalisation law was from 1962, and the treaty was in force from 1958, Costa had no claim. By contrast, the Court of Justice held that ultimately the Treaty of Rome in no way prevented energy nationalisation, and in any case under the Treaty provisions only the Commission could have brought a claim, not Mr Costa. However, in principle, Mr Costa was entitled to plead that the Treaty conflicted with national law, and the court would have a duty to consider his claim to make a reference if there would be no appeal against its decision. The Court of Justice, repeating its view in Van Gend en Loos, said member states \"albeit within limited spheres, have restricted their sovereign rights and created a body of law applicable both to their nationals and to themselves\" on the \"basis of reciprocity\". EU law would not \"be overridden by domestic legal provisions, however framed... without the legal basis of the community itself being called into question.\" This meant any \"subsequent unilateral act\" of the member state inapplicable. Similarly, in Amministrazione delle Finanze v Simmenthal SpA, a company, Simmenthal SpA, claimed that a public health inspection fee under an Italian law of 1970 for importing beef from France to Italy was contrary to two Regulations from 1964 and 1968. In \"accordance with the principle of the precedence of Community law,\" said the Court of Justice, the \"directly applicable measures of the institutions\" (such as the Regulations in the case) \"render automatically inapplicable any conflicting provision of current national law\". This was necessary to prevent a \"corresponding denial\" of Treaty \"obligations undertaken unconditionally and irrevocably by member states\", that could \"imperil the very foundations of the\" EU. But despite the views of the Court of Justice, the national courts of member states have not accepted the same analysis.',\n",
       "   'Some civil disobedience defendants choose to make a defiant speech, or a speech explaining their actions, in allocution. In U.S. v. Burgos-Andujar, a defendant who was involved in a movement to stop military exercises by trespassing on U.S. Navy property argued to the court in allocution that \"the ones who are violating the greater law are the members of the Navy\". As a result, the judge increased her sentence from 40 to 60 days. This action was upheld because, according to the U.S. Court of Appeals for the First Circuit, her statement suggested a lack of remorse, an attempt to avoid responsibility for her actions, and even a likelihood of repeating her illegal actions. Some of the other allocution speeches given by the protesters complained about mistreatment from government officials.',\n",
       "   'In regard to companies, the Court of Justice held in R (Daily Mail and General Trust plc) v HM Treasury that member states could restrict a company moving its seat of business, without infringing TFEU article 49. This meant the Daily Mail newspaper\\'s parent company could not evade tax by shifting its residence to the Netherlands without first settling its tax bills in the UK. The UK did not need to justify its action, as rules on company seats were not yet harmonised. By contrast, in Centros Ltd v Erhversus-og Selkabssyrelsen the Court of Justice found that a UK limited company operating in Denmark could not be required to comply with Denmark\\'s minimum share capital rules. UK law only required £1 of capital to start a company, while Denmark\\'s legislature took the view companies should only be started up if they had 200,000 Danish krone (around €27,000) to protect creditors if the company failed and went insolvent. The Court of Justice held that Denmark\\'s minimum capital law infringed Centros Ltd\\'s freedom of establishment and could not be justified, because a company in the UK could admittedly provide services in Denmark without being established there, and there were less restrictive means of achieving the aim of creditor protection. This approach was criticised as potentially opening the EU to unjustified regulatory competition, and a race to the bottom in standards, like in the US where the state Delaware attracts most companies and is often argued to have the worst standards of accountability of boards, and low corporate taxes as a result. Similarly in Überseering BV v Nordic Construction GmbH the Court of Justice held that a German court could not deny a Dutch building company the right to enforce a contract in Germany on the basis that it was not validly incorporated in Germany. Although restrictions on freedom of establishment could be justified by creditor protection, labour rights to participate in work, or the public interest in collecting taxes, denial of capacity went too far: it was an \"outright negation\" of the right of establishment. However, in Cartesio Oktató és Szolgáltató bt the Court of Justice affirmed again that because corporations are created by law, they are in principle subject to any rules for formation that a state of incorporation wishes to impose. This meant that the Hungarian authorities could prevent a company from shifting its central administration to Italy while it still operated and was incorporated in Hungary. Thus, the court draws a distinction between the right of establishment for foreign companies (where restrictions must be justified), and the right of the state to determine conditions for companies incorporated in its territory, although it is not entirely clear why.',\n",
       "   'As well as creating rights for \"workers\" who generally lack bargaining power in the market, the Treaty on the Functioning of the European Union also protects the \"freedom of establishment\" in article 49, and \"freedom to provide services\" in article 56. In Gebhard v Consiglio dell’Ordine degli Avvocati e Procuratori di Milano the Court of Justice held that to be \"established\" means to participate in economic life \"on a stable and continuous basis\", while providing \"services\" meant pursuing activity more \"on a temporary basis\". This meant that a lawyer from Stuttgart, who had set up chambers in Milan and was censured by the Milan Bar Council for not having registered, was entitled to bring a claim under for establishment freedom, rather than service freedom. However, the requirements to be registered in Milan before being able to practice would be allowed if they were non-discriminatory, \"justified by imperative requirements in the general interest\" and proportionately applied. All people or entities that engage in economic activity, particularly the self-employed, or \"undertakings\" such as companies or firms, have a right to set up an enterprise without unjustified restrictions. The Court of Justice has held that both a member state government and a private party can hinder freedom of establishment, so article 49 has both \"vertical\" and \"horizontal\" direct effect. In Reyners v Belgium the Court of Justice held that a refusal to admit a lawyer to the Belgian bar because he lacked Belgian nationality was unjustified. TFEU article 49 says states are exempt from infringing others\\' freedom of establishment when they exercise \"official authority\", but this did an advocate\\'s work (as opposed to a court\\'s) was not official. By contrast in Commission v Italy the Court of Justice held that a requirement for lawyers in Italy to comply with maximum tariffs unless there was an agreement with a client was not a restriction. The Grand Chamber of the Court of Justice held the Commission had not proven that this had any object or effect of limiting practitioners from entering the market. Therefore, there was no prima facie infringement freedom of establishment that needed to be justified.'],\n",
       "  'q_context': [],\n",
       "  'ground_truth_context': 'The \"freedom to provide services\" under TFEU article 56 applies to people who give services \"for remuneration\", especially commercial or professional activity. For example, in Van Binsbergen v Bestuur van de Bedrijfvereniging voor de Metaalnijverheid a Dutch lawyer moved to Belgium while advising a client in a social security case, and was told he could not continue because Dutch law said only people established in the Netherlands could give legal advice. The Court of Justice held that the freedom to provide services applied, it was directly effective, and the rule was probably unjustified: having an address in the member state would be enough to pursue the legitimate aim of good administration of justice. The Court of Justice has held that secondary education falls outside the scope of article 56, because usually the state funds it, though higher education does not. Health care generally counts as a service. In Geraets-Smits v Stichting Ziekenfonds Mrs Geraets-Smits claimed she should be reimbursed by Dutch social insurance for costs of receiving treatment in Germany. The Dutch health authorities regarded the treatment unnecessary, so she argued this restricted the freedom (of the German health clinic) to provide services. Several governments submitted that hospital services should not be regarded as economic, and should not fall within article 56. But the Court of Justice held health was a \"service\" even though the government (rather than the service recipient) paid for the service. National authorities could be justified in refusing to reimburse patients for medical services abroad if the health care received at home was without undue delay, and it followed \"international medical science\" on which treatments counted as normal and necessary. The Court requires that the individual circumstances of a patient justify waiting lists, and this is also true in the context of the UK\\'s National Health Service. Aside from public services, another sensitive field of services are those classified as illegal. Josemans v Burgemeester van Maastricht held that the Netherlands\\' regulation of cannabis consumption, including the prohibitions by some municipalities on tourists (but not Dutch nationals) going to coffee shops, fell outside article 56 altogether. The Court of Justice reasoned that narcotic drugs were controlled in all member states, and so this differed from other cases where prostitution or other quasi-legal activity was subject to restriction. If an activity does fall within article 56, a restriction can be justified under article 52 or overriding requirements developed by the Court of Justice. In Alpine Investments BV v Minister van Financiën a business that sold commodities futures (with Merrill Lynch and another banking firms) attempted to challenge a Dutch law that prohibiting cold calling customers. The Court of Justice held the Dutch prohibition pursued a legitimate aim to prevent \"undesirable developments in securities trading\" including protecting the consumer from aggressive sales tactics, thus maintaining confidence in the Dutch markets. In Omega Spielhallen GmbH v Bonn a \"laserdrome\" business was banned by the Bonn council. It bought fake laser gun services from a UK firm called Pulsar Ltd, but residents had protested against \"playing at killing\" entertainment. The Court of Justice held that the German constitutional value of human dignity, which underpinned the ban, did count as a justified restriction on freedom to provide services. In Liga Portuguesa de Futebol v Santa Casa da Misericórdia de Lisboa the Court of Justice also held that the state monopoly on gambling, and a penalty for a Gibraltar firm that had sold internet gambling services, was justified to prevent fraud and gambling where people\\'s views were highly divergent. The ban was proportionate as this was an appropriate and necessary way to tackle the serious problems of fraud that arise over the internet. In the Services Directive a group of justifications were codified in article 16 that the case law has developed.',\n",
       "  'bleu_score': 0,\n",
       "  'retrieval_score': 0,\n",
       "  'id': '5726c3da708984140094d0db'}]"
      ]
     },
     "execution_count": 109,
     "metadata": {},
     "output_type": "execute_result"
    }
   ],
   "source": [
    "evaluation(\n",
    "    agent=rag_agent,\n",
    "    test_set=example_dataset,\n",
    "    top_k=5,\n",
    "    q_top_k=2,\n",
    "    distance_threshold=1.5,\n",
    "    q_distance_threshold=0.25\n",
    ")"
   ]
  },
  {
   "cell_type": "code",
   "execution_count": 110,
   "metadata": {},
   "outputs": [
    {
     "data": {
      "text/plain": [
       "[{'question': 'What were the key aspects controlled in all member states in the case of Josemans v Burgemeester van Maastricht according to the Court of Justice?',\n",
       "  'answer': 'Controlled substances, such as narcotic drugs.',\n",
       "  'ground_truth_answer': ['narcotic drugs',\n",
       "   'narcotic drugs',\n",
       "   'narcotic drugs'],\n",
       "  'context': ['Since its founding, the EU has operated among an increasing plurality of national and globalising legal systems. This has meant both the European Court of Justice and the highest national courts have had to develop principles to resolve conflicts of laws between different systems. Within the EU itself, the Court of Justice\\'s view is that if EU law conflicts with a provision of national law, then EU law has primacy. In the first major case in 1964, Costa v ENEL, a Milanese lawyer, and former shareholder of an energy company, named Mr Costa refused to pay his electricity bill to Enel, as a protest against the nationalisation of the Italian energy corporations. He claimed the Italian nationalisation law conflicted with the Treaty of Rome, and requested a reference be made to both the Italian Constitutional Court and the Court of Justice under TFEU article 267. The Italian Constitutional Court gave an opinion that because the nationalisation law was from 1962, and the treaty was in force from 1958, Costa had no claim. By contrast, the Court of Justice held that ultimately the Treaty of Rome in no way prevented energy nationalisation, and in any case under the Treaty provisions only the Commission could have brought a claim, not Mr Costa. However, in principle, Mr Costa was entitled to plead that the Treaty conflicted with national law, and the court would have a duty to consider his claim to make a reference if there would be no appeal against its decision. The Court of Justice, repeating its view in Van Gend en Loos, said member states \"albeit within limited spheres, have restricted their sovereign rights and created a body of law applicable both to their nationals and to themselves\" on the \"basis of reciprocity\". EU law would not \"be overridden by domestic legal provisions, however framed... without the legal basis of the community itself being called into question.\" This meant any \"subsequent unilateral act\" of the member state inapplicable. Similarly, in Amministrazione delle Finanze v Simmenthal SpA, a company, Simmenthal SpA, claimed that a public health inspection fee under an Italian law of 1970 for importing beef from France to Italy was contrary to two Regulations from 1964 and 1968. In \"accordance with the principle of the precedence of Community law,\" said the Court of Justice, the \"directly applicable measures of the institutions\" (such as the Regulations in the case) \"render automatically inapplicable any conflicting provision of current national law\". This was necessary to prevent a \"corresponding denial\" of Treaty \"obligations undertaken unconditionally and irrevocably by member states\", that could \"imperil the very foundations of the\" EU. But despite the views of the Court of Justice, the national courts of member states have not accepted the same analysis.',\n",
       "   'Some civil disobedience defendants choose to make a defiant speech, or a speech explaining their actions, in allocution. In U.S. v. Burgos-Andujar, a defendant who was involved in a movement to stop military exercises by trespassing on U.S. Navy property argued to the court in allocution that \"the ones who are violating the greater law are the members of the Navy\". As a result, the judge increased her sentence from 40 to 60 days. This action was upheld because, according to the U.S. Court of Appeals for the First Circuit, her statement suggested a lack of remorse, an attempt to avoid responsibility for her actions, and even a likelihood of repeating her illegal actions. Some of the other allocution speeches given by the protesters complained about mistreatment from government officials.',\n",
       "   'In regard to companies, the Court of Justice held in R (Daily Mail and General Trust plc) v HM Treasury that member states could restrict a company moving its seat of business, without infringing TFEU article 49. This meant the Daily Mail newspaper\\'s parent company could not evade tax by shifting its residence to the Netherlands without first settling its tax bills in the UK. The UK did not need to justify its action, as rules on company seats were not yet harmonised. By contrast, in Centros Ltd v Erhversus-og Selkabssyrelsen the Court of Justice found that a UK limited company operating in Denmark could not be required to comply with Denmark\\'s minimum share capital rules. UK law only required £1 of capital to start a company, while Denmark\\'s legislature took the view companies should only be started up if they had 200,000 Danish krone (around €27,000) to protect creditors if the company failed and went insolvent. The Court of Justice held that Denmark\\'s minimum capital law infringed Centros Ltd\\'s freedom of establishment and could not be justified, because a company in the UK could admittedly provide services in Denmark without being established there, and there were less restrictive means of achieving the aim of creditor protection. This approach was criticised as potentially opening the EU to unjustified regulatory competition, and a race to the bottom in standards, like in the US where the state Delaware attracts most companies and is often argued to have the worst standards of accountability of boards, and low corporate taxes as a result. Similarly in Überseering BV v Nordic Construction GmbH the Court of Justice held that a German court could not deny a Dutch building company the right to enforce a contract in Germany on the basis that it was not validly incorporated in Germany. Although restrictions on freedom of establishment could be justified by creditor protection, labour rights to participate in work, or the public interest in collecting taxes, denial of capacity went too far: it was an \"outright negation\" of the right of establishment. However, in Cartesio Oktató és Szolgáltató bt the Court of Justice affirmed again that because corporations are created by law, they are in principle subject to any rules for formation that a state of incorporation wishes to impose. This meant that the Hungarian authorities could prevent a company from shifting its central administration to Italy while it still operated and was incorporated in Hungary. Thus, the court draws a distinction between the right of establishment for foreign companies (where restrictions must be justified), and the right of the state to determine conditions for companies incorporated in its territory, although it is not entirely clear why.',\n",
       "   'As well as creating rights for \"workers\" who generally lack bargaining power in the market, the Treaty on the Functioning of the European Union also protects the \"freedom of establishment\" in article 49, and \"freedom to provide services\" in article 56. In Gebhard v Consiglio dell’Ordine degli Avvocati e Procuratori di Milano the Court of Justice held that to be \"established\" means to participate in economic life \"on a stable and continuous basis\", while providing \"services\" meant pursuing activity more \"on a temporary basis\". This meant that a lawyer from Stuttgart, who had set up chambers in Milan and was censured by the Milan Bar Council for not having registered, was entitled to bring a claim under for establishment freedom, rather than service freedom. However, the requirements to be registered in Milan before being able to practice would be allowed if they were non-discriminatory, \"justified by imperative requirements in the general interest\" and proportionately applied. All people or entities that engage in economic activity, particularly the self-employed, or \"undertakings\" such as companies or firms, have a right to set up an enterprise without unjustified restrictions. The Court of Justice has held that both a member state government and a private party can hinder freedom of establishment, so article 49 has both \"vertical\" and \"horizontal\" direct effect. In Reyners v Belgium the Court of Justice held that a refusal to admit a lawyer to the Belgian bar because he lacked Belgian nationality was unjustified. TFEU article 49 says states are exempt from infringing others\\' freedom of establishment when they exercise \"official authority\", but this did an advocate\\'s work (as opposed to a court\\'s) was not official. By contrast in Commission v Italy the Court of Justice held that a requirement for lawyers in Italy to comply with maximum tariffs unless there was an agreement with a client was not a restriction. The Grand Chamber of the Court of Justice held the Commission had not proven that this had any object or effect of limiting practitioners from entering the market. Therefore, there was no prima facie infringement freedom of establishment that needed to be justified.'],\n",
       "  'q_context': ['The \"freedom to provide services\" under TFEU article 56 applies to people who give services \"for remuneration\", especially commercial or professional activity. For example, in Van Binsbergen v Bestuur van de Bedrijfvereniging voor de Metaalnijverheid a Dutch lawyer moved to Belgium while advising a client in a social security case, and was told he could not continue because Dutch law said only people established in the Netherlands could give legal advice. The Court of Justice held that the freedom to provide services applied, it was directly effective, and the rule was probably unjustified: having an address in the member state would be enough to pursue the legitimate aim of good administration of justice. The Court of Justice has held that secondary education falls outside the scope of article 56, because usually the state funds it, though higher education does not. Health care generally counts as a service. In Geraets-Smits v Stichting Ziekenfonds Mrs Geraets-Smits claimed she should be reimbursed by Dutch social insurance for costs of receiving treatment in Germany. The Dutch health authorities regarded the treatment unnecessary, so she argued this restricted the freedom (of the German health clinic) to provide services. Several governments submitted that hospital services should not be regarded as economic, and should not fall within article 56. But the Court of Justice held health was a \"service\" even though the government (rather than the service recipient) paid for the service. National authorities could be justified in refusing to reimburse patients for medical services abroad if the health care received at home was without undue delay, and it followed \"international medical science\" on which treatments counted as normal and necessary. The Court requires that the individual circumstances of a patient justify waiting lists, and this is also true in the context of the UK\\'s National Health Service. Aside from public services, another sensitive field of services are those classified as illegal. Josemans v Burgemeester van Maastricht held that the Netherlands\\' regulation of cannabis consumption, including the prohibitions by some municipalities on tourists (but not Dutch nationals) going to coffee shops, fell outside article 56 altogether. The Court of Justice reasoned that narcotic drugs were controlled in all member states, and so this differed from other cases where prostitution or other quasi-legal activity was subject to restriction. If an activity does fall within article 56, a restriction can be justified under article 52 or overriding requirements developed by the Court of Justice. In Alpine Investments BV v Minister van Financiën a business that sold commodities futures (with Merrill Lynch and another banking firms) attempted to challenge a Dutch law that prohibiting cold calling customers. The Court of Justice held the Dutch prohibition pursued a legitimate aim to prevent \"undesirable developments in securities trading\" including protecting the consumer from aggressive sales tactics, thus maintaining confidence in the Dutch markets. In Omega Spielhallen GmbH v Bonn a \"laserdrome\" business was banned by the Bonn council. It bought fake laser gun services from a UK firm called Pulsar Ltd, but residents had protested against \"playing at killing\" entertainment. The Court of Justice held that the German constitutional value of human dignity, which underpinned the ban, did count as a justified restriction on freedom to provide services. In Liga Portuguesa de Futebol v Santa Casa da Misericórdia de Lisboa the Court of Justice also held that the state monopoly on gambling, and a penalty for a Gibraltar firm that had sold internet gambling services, was justified to prevent fraud and gambling where people\\'s views were highly divergent. The ban was proportionate as this was an appropriate and necessary way to tackle the serious problems of fraud that arise over the internet. In the Services Directive a group of justifications were codified in article 16 that the case law has developed.'],\n",
       "  'ground_truth_context': 'The \"freedom to provide services\" under TFEU article 56 applies to people who give services \"for remuneration\", especially commercial or professional activity. For example, in Van Binsbergen v Bestuur van de Bedrijfvereniging voor de Metaalnijverheid a Dutch lawyer moved to Belgium while advising a client in a social security case, and was told he could not continue because Dutch law said only people established in the Netherlands could give legal advice. The Court of Justice held that the freedom to provide services applied, it was directly effective, and the rule was probably unjustified: having an address in the member state would be enough to pursue the legitimate aim of good administration of justice. The Court of Justice has held that secondary education falls outside the scope of article 56, because usually the state funds it, though higher education does not. Health care generally counts as a service. In Geraets-Smits v Stichting Ziekenfonds Mrs Geraets-Smits claimed she should be reimbursed by Dutch social insurance for costs of receiving treatment in Germany. The Dutch health authorities regarded the treatment unnecessary, so she argued this restricted the freedom (of the German health clinic) to provide services. Several governments submitted that hospital services should not be regarded as economic, and should not fall within article 56. But the Court of Justice held health was a \"service\" even though the government (rather than the service recipient) paid for the service. National authorities could be justified in refusing to reimburse patients for medical services abroad if the health care received at home was without undue delay, and it followed \"international medical science\" on which treatments counted as normal and necessary. The Court requires that the individual circumstances of a patient justify waiting lists, and this is also true in the context of the UK\\'s National Health Service. Aside from public services, another sensitive field of services are those classified as illegal. Josemans v Burgemeester van Maastricht held that the Netherlands\\' regulation of cannabis consumption, including the prohibitions by some municipalities on tourists (but not Dutch nationals) going to coffee shops, fell outside article 56 altogether. The Court of Justice reasoned that narcotic drugs were controlled in all member states, and so this differed from other cases where prostitution or other quasi-legal activity was subject to restriction. If an activity does fall within article 56, a restriction can be justified under article 52 or overriding requirements developed by the Court of Justice. In Alpine Investments BV v Minister van Financiën a business that sold commodities futures (with Merrill Lynch and another banking firms) attempted to challenge a Dutch law that prohibiting cold calling customers. The Court of Justice held the Dutch prohibition pursued a legitimate aim to prevent \"undesirable developments in securities trading\" including protecting the consumer from aggressive sales tactics, thus maintaining confidence in the Dutch markets. In Omega Spielhallen GmbH v Bonn a \"laserdrome\" business was banned by the Bonn council. It bought fake laser gun services from a UK firm called Pulsar Ltd, but residents had protested against \"playing at killing\" entertainment. The Court of Justice held that the German constitutional value of human dignity, which underpinned the ban, did count as a justified restriction on freedom to provide services. In Liga Portuguesa de Futebol v Santa Casa da Misericórdia de Lisboa the Court of Justice also held that the state monopoly on gambling, and a penalty for a Gibraltar firm that had sold internet gambling services, was justified to prevent fraud and gambling where people\\'s views were highly divergent. The ban was proportionate as this was an appropriate and necessary way to tackle the serious problems of fraud that arise over the internet. In the Services Directive a group of justifications were codified in article 16 that the case law has developed.',\n",
       "  'bleu_score': 0.3333333333333333,\n",
       "  'retrieval_score': 1,\n",
       "  'id': '5726c3da708984140094d0db'}]"
      ]
     },
     "execution_count": 110,
     "metadata": {},
     "output_type": "execute_result"
    }
   ],
   "source": [
    "evaluation(\n",
    "    agent=new_rag_agent,\n",
    "    test_set=example_dataset,\n",
    "    top_k=5,\n",
    "    q_top_k=2,\n",
    "    distance_threshold=1.5,\n",
    "    q_distance_threshold=0.25\n",
    ")"
   ]
  },
  {
   "cell_type": "markdown",
   "metadata": {},
   "source": [
    "Depending on how the example question are rephrased, the results may vary. You may have to re-run the examples multiple times to clearly observe the effect. Nevertheless, in most runs, the vanilla RAG agent often fails to retrieve the chunk that contains the right answer while the Q-RAG agent could easily handle the complex question. "
   ]
  }
 ],
 "metadata": {
  "kernelspec": {
   "display_name": "Python 3",
   "language": "python",
   "name": "python3"
  },
  "language_info": {
   "codemirror_mode": {
    "name": "ipython",
    "version": 3
   },
   "file_extension": ".py",
   "mimetype": "text/x-python",
   "name": "python",
   "nbconvert_exporter": "python",
   "pygments_lexer": "ipython3",
   "version": "3.11.0"
  }
 },
 "nbformat": 4,
 "nbformat_minor": 2
}
